{
 "cells": [
  {
   "cell_type": "code",
   "execution_count": 9,
   "metadata": {
    "collapsed": true,
    "pycharm": {
     "is_executing": false
    }
   },
   "outputs": [],
   "source": [
    "from SolutionTesting.web_interactions import Page\n",
    "from SolutionTesting.page_testing import hyperparameter_test\n",
    "\n",
    "import tqdm\n",
    "tqdm.tqdm = tqdm.tqdm_notebook \n",
    "\n",
    "page = Page()\n",
    "levels = range(1, 19)\n",
    "speeds = [13]\n",
    "js_file = \"C:\\\\Users\\\\Zac\\\\Documents\\\\GitHub\\\\ElevatorSaga\\\\Solutions\\\\ZacTodd.js\"\n"
   ]
  },
  {
   "cell_type": "code",
   "execution_count": 10,
   "outputs": [
    {
     "name": "stderr",
     "text": [
      "\r0it [00:00, ?it/s]",
      "\r1it [45:16, 2716.32s/it]",
      "\r2it [47:53, 1948.61s/it]",
      "\r3it [50:23, 1409.08s/it]",
      "\r4it [52:56, 1032.26s/it]",
      "\r5it [55:49, 774.28s/it] ",
      "\r6it [58:23, 588.20s/it]",
      "\r7it [1:00:36, 451.67s/it]",
      "\r8it [1:04:03, 378.48s/it]",
      "\r9it [1:06:46, 313.77s/it]",
      "\r10it [1:09:43, 272.58s/it]",
      "\r11it [1:11:37, 225.07s/it]",
      "\r12it [1:13:12, 186.11s/it]",
      "\r13it [1:14:31, 154.05s/it]",
      "\r14it [1:15:54, 132.74s/it]",
      "\r15it [1:17:13, 116.38s/it]",
      "\r16it [1:19:59, 131.51s/it]",
      "\r17it [1:23:15, 150.84s/it]",
      "\r18it [1:33:36, 291.77s/it]",
      "\r18it [1:33:36, 312.02s/it]",
      "\n"
     ],
     "output_type": "stream"
    }
   ],
   "source": [
    "results = hyperparameter_test(page, 25, levels, speeds, [js_file])"
   ],
   "metadata": {
    "collapsed": false,
    "pycharm": {
     "name": "#%%\n",
     "is_executing": false
    }
   }
  },
  {
   "cell_type": "code",
   "execution_count": 8,
   "outputs": [
    {
     "data": {
      "text/plain": "{1: 1.0,\n 2: 0.56,\n 3: 1.0,\n 4: 0.72,\n 5: 0.52,\n 6: 0.88,\n 7: 0.48,\n 8: 0.24,\n 9: 0.16,\n 10: 0.2,\n 11: 0.16,\n 12: 0.0,\n 13: 0.0,\n 14: 0.0,\n 15: 0.0,\n 16: 1.0,\n 17: 0.16,\n 18: 0.0}"
     },
     "metadata": {},
     "output_type": "execute_result",
     "execution_count": 8
    }
   ],
   "source": [
    "odict = {}\n",
    "for l in levels:\n",
    "    outcome = [f == \"Success!\" for _, f in results[(l, 55, js_file)]]\n",
    "    odict[l] = sum(outcome) / len(outcome)\n",
    "odict\n",
    "\n",
    "\n"
   ],
   "metadata": {
    "collapsed": false,
    "pycharm": {
     "name": "#%%\n",
     "is_executing": false
    }
   }
  }
 ],
 "metadata": {
  "kernelspec": {
   "display_name": "Python 3",
   "language": "python",
   "name": "python3"
  },
  "language_info": {
   "codemirror_mode": {
    "name": "ipython",
    "version": 2
   },
   "file_extension": ".py",
   "mimetype": "text/x-python",
   "name": "python",
   "nbconvert_exporter": "python",
   "pygments_lexer": "ipython2",
   "version": "2.7.6"
  },
  "pycharm": {
   "stem_cell": {
    "cell_type": "raw",
    "source": [],
    "metadata": {
     "collapsed": false
    }
   }
  }
 },
 "nbformat": 4,
 "nbformat_minor": 0
}