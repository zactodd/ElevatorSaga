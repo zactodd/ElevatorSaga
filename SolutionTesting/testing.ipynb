{
 "cells": [
  {
   "cell_type": "code",
   "execution_count": 1,
   "metadata": {
    "collapsed": true,
    "pycharm": {
     "is_executing": false
    }
   },
   "outputs": [],
   "source": [
    "from SolutionTesting.web_interactions import Page\n",
    "from SolutionTesting.page_testing import hyperparameter_test\n",
    "\n",
    "import tqdm\n",
    "tqdm.tqdm = tqdm.tqdm_notebook \n",
    "\n",
    "page = Page()\n",
    "levels = range(1, 19)\n",
    "speeds = [21, 34, 55]\n",
    "js_file = \"C:\\\\Users\\\\Zac\\\\Documents\\\\GitHub\\\\ElevatorSaga\\\\Solutions\\\\ZacTodd.js\"\n"
   ]
  },
  {
   "cell_type": "code",
   "execution_count": null,
   "outputs": [
    {
     "name": "stderr",
     "text": [
      "\r0it [00:00, ?it/s]"
     ],
     "output_type": "stream"
    }
   ],
   "source": [
    "results = hyperparameter_test(page, 100, levels, speeds, [js_file])"
   ],
   "metadata": {
    "collapsed": false,
    "pycharm": {
     "name": "#%%\n",
     "is_executing": true
    }
   }
  }
 ],
 "metadata": {
  "kernelspec": {
   "display_name": "Python 3",
   "language": "python",
   "name": "python3"
  },
  "language_info": {
   "codemirror_mode": {
    "name": "ipython",
    "version": 2
   },
   "file_extension": ".py",
   "mimetype": "text/x-python",
   "name": "python",
   "nbconvert_exporter": "python",
   "pygments_lexer": "ipython2",
   "version": "2.7.6"
  },
  "pycharm": {
   "stem_cell": {
    "cell_type": "raw",
    "source": [],
    "metadata": {
     "collapsed": false
    }
   }
  }
 },
 "nbformat": 4,
 "nbformat_minor": 0
}