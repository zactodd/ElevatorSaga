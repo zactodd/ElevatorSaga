{
 "cells": [
  {
   "cell_type": "code",
   "execution_count": null,
   "metadata": {
    "collapsed": true
   },
   "outputs": [],
   "source": [
    "from SolutionTesting.web_interactions import Page\n",
    "from SolutionTesting.page_testing import hyperparameter_test\n",
    "\n",
    "page = Page()\n",
    "levels = range(1, 19)\n",
    "speeds = page.speeds\n",
    "js_file = \"C:\\\\Users\\\\Zac\\\\Documents\\\\GitHub\\\\ElevatorSaga\\\\Solutions\\\\ZacTodd.js\"\n"
   ]
  },
  {
   "cell_type": "code",
   "execution_count": null,
   "outputs": [],
   "source": [
    "results = hyperparameter_test(100, levels, speeds, [js_file])"
   ],
   "metadata": {
    "collapsed": false,
    "pycharm": {
     "name": "#%%\n"
    }
   }
  }
 ],
 "metadata": {
  "kernelspec": {
   "display_name": "Python 3",
   "language": "python",
   "name": "python3"
  },
  "language_info": {
   "codemirror_mode": {
    "name": "ipython",
    "version": 2
   },
   "file_extension": ".py",
   "mimetype": "text/x-python",
   "name": "python",
   "nbconvert_exporter": "python",
   "pygments_lexer": "ipython2",
   "version": "2.7.6"
  },
  "pycharm": {
   "stem_cell": {
    "cell_type": "raw",
    "source": [],
    "metadata": {
     "collapsed": false
    }
   }
  }
 },
 "nbformat": 4,
 "nbformat_minor": 0
}